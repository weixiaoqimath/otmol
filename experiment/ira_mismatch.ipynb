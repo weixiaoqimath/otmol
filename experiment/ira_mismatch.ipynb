{
 "cells": [
  {
   "cell_type": "code",
   "execution_count": 1,
   "metadata": {},
   "outputs": [],
   "source": [
    "import numpy as np\n",
    "import otmol as otm\n",
    "import pandas as pd\n",
    "from openbabel import pybel\n",
    "import os"
   ]
  },
  {
   "cell_type": "code",
   "execution_count": 2,
   "metadata": {},
   "outputs": [
    {
     "name": "stdout",
     "output_type": "stream",
     "text": [
      "70.73170731707317\n"
     ]
    }
   ],
   "source": [
    "# directly calculate using pybel\n",
    "path1 = os.path.join('../data/extra_bio_ligands', 'extra_bio_ligands_reference', '4csv_imatinib.xyz')\n",
    "path2 = os.path.join('./ira_aligned_two_structures', 'ira_CSD_AJIGUZ_imatinib_aligned.xyz')\n",
    "molA = next(pybel.readfile(\"xyz\", path1))\n",
    "molB = next(pybel.readfile(\"xyz\", path2))\n",
    "X_A, T_A, B_A = otm.tl.process_molecule(molA, heavy_atoms_only=True) \n",
    "X_B, T_B, B_B = otm.tl.process_molecule(molB, heavy_atoms_only=True)\n",
    "mismatched_bond_count, indices = otm.tl.mismatched_bond_counter(B_A, B_B, np.arange(X_A.shape[0]), B_A.shape[0], B_B.shape[0], only_A_bonds=True)\n",
    "print(mismatched_bond_count/np.sum(B_A)*200)"
   ]
  },
  {
   "cell_type": "code",
   "execution_count": 3,
   "metadata": {},
   "outputs": [
    {
     "name": "stdout",
     "output_type": "stream",
     "text": [
      "63.63636363636363\n"
     ]
    }
   ],
   "source": [
    "path1 = os.path.join('../data/extra_bio_ligands', 'extra_bio_ligands_reference', '6ln3_ATP.xyz')\n",
    "path2 = os.path.join('./ira_aligned_two_structures', 'ira_CSD_GAYLOH_ATP_aligned.xyz')\n",
    "molA = next(pybel.readfile(\"xyz\", path1))\n",
    "molB = next(pybel.readfile(\"xyz\", path2))\n",
    "X_A, T_A, B_A = otm.tl.process_molecule(molA, heavy_atoms_only=True) \n",
    "X_B, T_B, B_B = otm.tl.process_molecule(molB, heavy_atoms_only=True)\n",
    "mismatched_bond_count, indices = otm.tl.mismatched_bond_counter(B_A, B_B, np.arange(X_A.shape[0]), B_A.shape[0], B_B.shape[0], only_A_bonds=True)\n",
    "print(mismatched_bond_count/np.sum(B_A)*200)"
   ]
  }
 ],
 "metadata": {
  "kernelspec": {
   "display_name": "py39",
   "language": "python",
   "name": "python3"
  },
  "language_info": {
   "codemirror_mode": {
    "name": "ipython",
    "version": 3
   },
   "file_extension": ".py",
   "mimetype": "text/x-python",
   "name": "python",
   "nbconvert_exporter": "python",
   "pygments_lexer": "ipython3",
   "version": "3.9.16"
  }
 },
 "nbformat": 4,
 "nbformat_minor": 2
}
